{
 "cells": [
  {
   "cell_type": "code",
   "execution_count": 54,
   "id": "d2387beb",
   "metadata": {},
   "outputs": [],
   "source": [
    "import requests\n",
    "import pandas as pd\n",
    "import seaborn as sns"
   ]
  },
  {
   "cell_type": "code",
   "execution_count": 78,
   "id": "64c63ec2",
   "metadata": {},
   "outputs": [
    {
     "data": {
      "text/html": [
       "<div>\n",
       "<style scoped>\n",
       "    .dataframe tbody tr th:only-of-type {\n",
       "        vertical-align: middle;\n",
       "    }\n",
       "\n",
       "    .dataframe tbody tr th {\n",
       "        vertical-align: top;\n",
       "    }\n",
       "\n",
       "    .dataframe thead th {\n",
       "        text-align: right;\n",
       "    }\n",
       "</style>\n",
       "<table border=\"1\" class=\"dataframe\">\n",
       "  <thead>\n",
       "    <tr style=\"text-align: right;\">\n",
       "      <th></th>\n",
       "      <th>phrase</th>\n",
       "    </tr>\n",
       "  </thead>\n",
       "  <tbody>\n",
       "    <tr>\n",
       "      <th>0</th>\n",
       "      <td>Assertively Facilitate Proactive Methods Of Em...</td>\n",
       "    </tr>\n",
       "  </tbody>\n",
       "</table>\n",
       "</div>"
      ],
      "text/plain": [
       "                                              phrase\n",
       "0  Assertively Facilitate Proactive Methods Of Em..."
      ]
     },
     "execution_count": 78,
     "metadata": {},
     "output_type": "execute_result"
    }
   ],
   "source": [
    "uni = requests.get('https://corporatebs-generator.sameerkumar.website/')\n",
    "pd.DataFrame(uni.json(),index=[0]).head()"
   ]
  },
  {
   "cell_type": "code",
   "execution_count": 85,
   "id": "da13c6b6",
   "metadata": {},
   "outputs": [
    {
     "data": {
      "text/html": [
       "<div>\n",
       "<style scoped>\n",
       "    .dataframe tbody tr th:only-of-type {\n",
       "        vertical-align: middle;\n",
       "    }\n",
       "\n",
       "    .dataframe tbody tr th {\n",
       "        vertical-align: top;\n",
       "    }\n",
       "\n",
       "    .dataframe thead th {\n",
       "        text-align: right;\n",
       "    }\n",
       "</style>\n",
       "<table border=\"1\" class=\"dataframe\">\n",
       "  <thead>\n",
       "    <tr style=\"text-align: right;\">\n",
       "      <th></th>\n",
       "      <th>position</th>\n",
       "      <th>name</th>\n",
       "      <th>rarity</th>\n",
       "      <th>special_skill</th>\n",
       "      <th>is_daily_select</th>\n",
       "      <th>debut_tour</th>\n",
       "      <th>date_added</th>\n",
       "      <th>is_in_pipes</th>\n",
       "    </tr>\n",
       "  </thead>\n",
       "  <tbody>\n",
       "    <tr>\n",
       "      <th>0</th>\n",
       "      <td>1</td>\n",
       "      <td>Pipe Frame</td>\n",
       "      <td>Normal</td>\n",
       "      <td>Slipstream Plus</td>\n",
       "      <td>None</td>\n",
       "      <td>New York Tour</td>\n",
       "      <td>2019-09-25T00:00:00.000Z</td>\n",
       "      <td>None</td>\n",
       "    </tr>\n",
       "    <tr>\n",
       "      <th>1</th>\n",
       "      <td>2</td>\n",
       "      <td>Birthday Girl</td>\n",
       "      <td>Normal</td>\n",
       "      <td>Dash Panel Plus</td>\n",
       "      <td>None</td>\n",
       "      <td>New York Tour</td>\n",
       "      <td>2019-09-25T00:00:00.000Z</td>\n",
       "      <td>None</td>\n",
       "    </tr>\n",
       "    <tr>\n",
       "      <th>2</th>\n",
       "      <td>3</td>\n",
       "      <td>Mushmellow</td>\n",
       "      <td>Normal</td>\n",
       "      <td>Jump Boost Plus</td>\n",
       "      <td>None</td>\n",
       "      <td>New York Tour</td>\n",
       "      <td>2019-09-25T00:00:00.000Z</td>\n",
       "      <td>None</td>\n",
       "    </tr>\n",
       "    <tr>\n",
       "      <th>3</th>\n",
       "      <td>4</td>\n",
       "      <td>Koopa Dasher</td>\n",
       "      <td>Normal</td>\n",
       "      <td>Rocket Start Plus</td>\n",
       "      <td>None</td>\n",
       "      <td>New York Tour</td>\n",
       "      <td>2019-09-25T00:00:00.000Z</td>\n",
       "      <td>None</td>\n",
       "    </tr>\n",
       "    <tr>\n",
       "      <th>4</th>\n",
       "      <td>5</td>\n",
       "      <td>Biddybuggy</td>\n",
       "      <td>Normal</td>\n",
       "      <td>Slipstream Plus</td>\n",
       "      <td>None</td>\n",
       "      <td>Tokyo Tour</td>\n",
       "      <td>2019-10-09T00:00:00.000Z</td>\n",
       "      <td>None</td>\n",
       "    </tr>\n",
       "  </tbody>\n",
       "</table>\n",
       "</div>"
      ],
      "text/plain": [
       "   position           name  rarity      special_skill is_daily_select  \\\n",
       "0         1     Pipe Frame  Normal    Slipstream Plus            None   \n",
       "1         2  Birthday Girl  Normal    Dash Panel Plus            None   \n",
       "2         3     Mushmellow  Normal    Jump Boost Plus            None   \n",
       "3         4   Koopa Dasher  Normal  Rocket Start Plus            None   \n",
       "4         5     Biddybuggy  Normal    Slipstream Plus            None   \n",
       "\n",
       "      debut_tour                date_added is_in_pipes  \n",
       "0  New York Tour  2019-09-25T00:00:00.000Z        None  \n",
       "1  New York Tour  2019-09-25T00:00:00.000Z        None  \n",
       "2  New York Tour  2019-09-25T00:00:00.000Z        None  \n",
       "3  New York Tour  2019-09-25T00:00:00.000Z        None  \n",
       "4     Tokyo Tour  2019-10-09T00:00:00.000Z        None  "
      ]
     },
     "execution_count": 85,
     "metadata": {},
     "output_type": "execute_result"
    }
   ],
   "source": [
    "ap = requests.get('https://mario-kart-tour-api.herokuapp.com/api/v1/karts')\n",
    "pd.DataFrame(ap.json()).head()"
   ]
  },
  {
   "cell_type": "code",
   "execution_count": 86,
   "id": "5318eb5f",
   "metadata": {},
   "outputs": [],
   "source": [
    "karts = pd.DataFrame(ap.json()).head()"
   ]
  },
  {
   "cell_type": "code",
   "execution_count": 87,
   "id": "f1cef3fd",
   "metadata": {},
   "outputs": [
    {
     "name": "stderr",
     "output_type": "stream",
     "text": [
      "C:\\Users\\patri\\OneDrive\\Documents\\New folder\\lib\\site-packages\\seaborn\\_decorators.py:36: FutureWarning: Pass the following variables as keyword args: x, y. From version 0.12, the only valid positional argument will be `data`, and passing other arguments without an explicit keyword will result in an error or misinterpretation.\n",
      "  warnings.warn(\n"
     ]
    },
    {
     "data": {
      "image/png": "[encoded data removed]",
      "text/plain": [
       "<Figure size 576x396 with 1 Axes>"
      ]
     },
     "metadata": {},
     "output_type": "display_data"
    }
   ],
   "source": [
    "# Create scatter plot with GDP on the x-axis and number of phones on the y-axis\n",
    "x = karts.special_skill\n",
    "y = karts.name\n",
    "\n",
    "sns.scatterplot(x, y)\n",
    "\n",
    "# Show plot\n",
    "plt.show()"
   ]
  },
  {
   "cell_type": "code",
   "execution_count": 94,
   "id": "7f8b9c7b",
   "metadata": {},
   "outputs": [
    {
     "data": {
      "text/plain": [
       "<function matplotlib.pyplot.show(close=None, block=None)>"
      ]
     },
     "execution_count": 94,
     "metadata": {},
     "output_type": "execute_result"
    },
    {
     "data": {
      "image/png": "[encoded data removed]",
      "text/plain": [
       "<Figure size 576x396 with 1 Axes>"
      ]
     },
     "metadata": {},
     "output_type": "display_data"
    }
   ],
   "source": [
    "# Histogram of the special skills available per all karts\n",
    "plt.hist(karts.special_skill, bins=4)\n",
    "plt.show"
   ]
  },
  {
   "cell_type": "code",
   "execution_count": 96,
   "id": "fcf378d5",
   "metadata": {},
   "outputs": [
    {
     "data": {
      "text/html": [
       "<div>\n",
       "<style scoped>\n",
       "    .dataframe tbody tr th:only-of-type {\n",
       "        vertical-align: middle;\n",
       "    }\n",
       "\n",
       "    .dataframe tbody tr th {\n",
       "        vertical-align: top;\n",
       "    }\n",
       "\n",
       "    .dataframe thead th {\n",
       "        text-align: right;\n",
       "    }\n",
       "</style>\n",
       "<table border=\"1\" class=\"dataframe\">\n",
       "  <thead>\n",
       "    <tr style=\"text-align: right;\">\n",
       "      <th></th>\n",
       "      <th>position</th>\n",
       "      <th>name</th>\n",
       "      <th>rarity</th>\n",
       "      <th>special_skill</th>\n",
       "      <th>debut_tour</th>\n",
       "      <th>date_added</th>\n",
       "      <th>level_one_favorite_courses</th>\n",
       "      <th>level_three_favorite_courses</th>\n",
       "      <th>level_six_favorite_courses</th>\n",
       "      <th>is_daily_select</th>\n",
       "      <th>...</th>\n",
       "      <th>helmet</th>\n",
       "      <th>horns</th>\n",
       "      <th>kong</th>\n",
       "      <th>koopaling</th>\n",
       "      <th>mustache</th>\n",
       "      <th>ribbon</th>\n",
       "      <th>shell</th>\n",
       "      <th>short_sleeves</th>\n",
       "      <th>three_hairs</th>\n",
       "      <th>tie</th>\n",
       "    </tr>\n",
       "  </thead>\n",
       "  <tbody>\n",
       "    <tr>\n",
       "      <th>0</th>\n",
       "      <td>1</td>\n",
       "      <td>Baby Mario</td>\n",
       "      <td>Normal</td>\n",
       "      <td>Boomerang Flower</td>\n",
       "      <td>New York Tour</td>\n",
       "      <td>2019-09-25T00:00:00.000Z</td>\n",
       "      <td>[{'id': 34, 'name': 'SNES Mario Circuit 1T', '...</td>\n",
       "      <td>[]</td>\n",
       "      <td>[]</td>\n",
       "      <td>True</td>\n",
       "      <td>...</td>\n",
       "      <td>False</td>\n",
       "      <td>False</td>\n",
       "      <td>False</td>\n",
       "      <td>False</td>\n",
       "      <td>False</td>\n",
       "      <td>False</td>\n",
       "      <td>False</td>\n",
       "      <td>False</td>\n",
       "      <td>False</td>\n",
       "      <td>False</td>\n",
       "    </tr>\n",
       "    <tr>\n",
       "      <th>1</th>\n",
       "      <td>2</td>\n",
       "      <td>Baby Peach</td>\n",
       "      <td>Normal</td>\n",
       "      <td>Bubble</td>\n",
       "      <td>New York Tour</td>\n",
       "      <td>2019-09-25T00:00:00.000Z</td>\n",
       "      <td>[]</td>\n",
       "      <td>[]</td>\n",
       "      <td>[]</td>\n",
       "      <td>True</td>\n",
       "      <td>...</td>\n",
       "      <td>False</td>\n",
       "      <td>False</td>\n",
       "      <td>False</td>\n",
       "      <td>False</td>\n",
       "      <td>False</td>\n",
       "      <td>False</td>\n",
       "      <td>False</td>\n",
       "      <td>True</td>\n",
       "      <td>False</td>\n",
       "      <td>False</td>\n",
       "    </tr>\n",
       "    <tr>\n",
       "      <th>2</th>\n",
       "      <td>3</td>\n",
       "      <td>Baby Daisy</td>\n",
       "      <td>Normal</td>\n",
       "      <td>Bubble</td>\n",
       "      <td>New York Tour</td>\n",
       "      <td>2019-09-25T00:00:00.000Z</td>\n",
       "      <td>[{'id': 73, 'name': '3DS Daisy Hills R/T', 'de...</td>\n",
       "      <td>[]</td>\n",
       "      <td>[]</td>\n",
       "      <td>True</td>\n",
       "      <td>...</td>\n",
       "      <td>False</td>\n",
       "      <td>False</td>\n",
       "      <td>False</td>\n",
       "      <td>False</td>\n",
       "      <td>False</td>\n",
       "      <td>False</td>\n",
       "      <td>False</td>\n",
       "      <td>True</td>\n",
       "      <td>False</td>\n",
       "      <td>False</td>\n",
       "    </tr>\n",
       "    <tr>\n",
       "      <th>3</th>\n",
       "      <td>4</td>\n",
       "      <td>Baby Rosalina</td>\n",
       "      <td>Normal</td>\n",
       "      <td>Bubble</td>\n",
       "      <td>Tokyo Tour</td>\n",
       "      <td>2019-10-09T00:00:00.000Z</td>\n",
       "      <td>[{'id': 46, 'name': 'SNES Choco Island 2T', 'd...</td>\n",
       "      <td>[]</td>\n",
       "      <td>[]</td>\n",
       "      <td>True</td>\n",
       "      <td>...</td>\n",
       "      <td>False</td>\n",
       "      <td>False</td>\n",
       "      <td>False</td>\n",
       "      <td>False</td>\n",
       "      <td>False</td>\n",
       "      <td>False</td>\n",
       "      <td>False</td>\n",
       "      <td>True</td>\n",
       "      <td>False</td>\n",
       "      <td>False</td>\n",
       "    </tr>\n",
       "    <tr>\n",
       "      <th>4</th>\n",
       "      <td>5</td>\n",
       "      <td>Baby Luigi</td>\n",
       "      <td>Normal</td>\n",
       "      <td>Boomerang Flower</td>\n",
       "      <td>Halloween Tour (2019)</td>\n",
       "      <td>2019-10-23T00:00:00.000Z</td>\n",
       "      <td>[{'id': 58, 'name': 'DS Luigi's Mansion R', 'd...</td>\n",
       "      <td>[]</td>\n",
       "      <td>[]</td>\n",
       "      <td>True</td>\n",
       "      <td>...</td>\n",
       "      <td>False</td>\n",
       "      <td>False</td>\n",
       "      <td>False</td>\n",
       "      <td>False</td>\n",
       "      <td>False</td>\n",
       "      <td>False</td>\n",
       "      <td>False</td>\n",
       "      <td>False</td>\n",
       "      <td>False</td>\n",
       "      <td>False</td>\n",
       "    </tr>\n",
       "  </tbody>\n",
       "</table>\n",
       "<p>5 rows × 28 columns</p>\n",
       "</div>"
      ],
      "text/plain": [
       "   position           name  rarity     special_skill             debut_tour  \\\n",
       "0         1     Baby Mario  Normal  Boomerang Flower          New York Tour   \n",
       "1         2     Baby Peach  Normal            Bubble          New York Tour   \n",
       "2         3     Baby Daisy  Normal            Bubble          New York Tour   \n",
       "3         4  Baby Rosalina  Normal            Bubble             Tokyo Tour   \n",
       "4         5     Baby Luigi  Normal  Boomerang Flower  Halloween Tour (2019)   \n",
       "\n",
       "                 date_added  \\\n",
       "0  2019-09-25T00:00:00.000Z   \n",
       "1  2019-09-25T00:00:00.000Z   \n",
       "2  2019-09-25T00:00:00.000Z   \n",
       "3  2019-10-09T00:00:00.000Z   \n",
       "4  2019-10-23T00:00:00.000Z   \n",
       "\n",
       "                          level_one_favorite_courses  \\\n",
       "0  [{'id': 34, 'name': 'SNES Mario Circuit 1T', '...   \n",
       "1                                                 []   \n",
       "2  [{'id': 73, 'name': '3DS Daisy Hills R/T', 'de...   \n",
       "3  [{'id': 46, 'name': 'SNES Choco Island 2T', 'd...   \n",
       "4  [{'id': 58, 'name': 'DS Luigi's Mansion R', 'd...   \n",
       "\n",
       "  level_three_favorite_courses level_six_favorite_courses  is_daily_select  \\\n",
       "0                           []                         []             True   \n",
       "1                           []                         []             True   \n",
       "2                           []                         []             True   \n",
       "3                           []                         []             True   \n",
       "4                           []                         []             True   \n",
       "\n",
       "   ...  helmet  horns   kong  koopaling  mustache  ribbon  shell  \\\n",
       "0  ...   False  False  False      False     False   False  False   \n",
       "1  ...   False  False  False      False     False   False  False   \n",
       "2  ...   False  False  False      False     False   False  False   \n",
       "3  ...   False  False  False      False     False   False  False   \n",
       "4  ...   False  False  False      False     False   False  False   \n",
       "\n",
       "   short_sleeves  three_hairs    tie  \n",
       "0          False        False  False  \n",
       "1           True        False  False  \n",
       "2           True        False  False  \n",
       "3           True        False  False  \n",
       "4          False        False  False  \n",
       "\n",
       "[5 rows x 28 columns]"
      ]
     },
     "execution_count": 96,
     "metadata": {},
     "output_type": "execute_result"
    }
   ],
   "source": [
    "drivers = requests.get('https://mario-kart-tour-api.herokuapp.com/api/v1/drivers')\n",
    "pd.DataFrame(drivers.json()).head()"
   ]
  },
  {
   "cell_type": "code",
   "execution_count": 97,
   "id": "c67cb070",
   "metadata": {},
   "outputs": [],
   "source": [
    "driverlist = pd.DataFrame(drivers.json()).head()"
   ]
  },
  {
   "cell_type": "code",
   "execution_count": 113,
   "id": "891c4d66",
   "metadata": {},
   "outputs": [
    {
     "name": "stderr",
     "output_type": "stream",
     "text": [
      "C:\\Users\\patri\\OneDrive\\Documents\\New folder\\lib\\site-packages\\seaborn\\_decorators.py:36: FutureWarning: Pass the following variables as keyword args: x, y. From version 0.12, the only valid positional argument will be `data`, and passing other arguments without an explicit keyword will result in an error or misinterpretation.\n",
      "  warnings.warn(\n"
     ]
    },
    {
     "data": {
      "image/png": "[encoded data removed]",
      "text/plain": [
       "<Figure size 576x396 with 1 Axes>"
      ]
     },
     "metadata": {},
     "output_type": "display_data"
    }
   ],
   "source": [
    "# Create scatter plot with GDP on the x-axis and number of phones on the y-axis\n",
    "y = driverlist.position\n",
    "x = driverlist.special_skill\n",
    "\n",
    "sns.scatterplot(x, y)\n",
    "\n",
    "# Show plot\n",
    "plt.show()"
   ]
  },
  {
   "cell_type": "code",
   "execution_count": 111,
   "id": "4ba3868d",
   "metadata": {},
   "outputs": [
    {
     "ename": "ValueError",
     "evalue": "'drivers' is not one of the example datasets.",
     "output_type": "error",
     "traceback": [
      "\u001b[1;31m---------------------------------------------------------------------------\u001b[0m",
      "\u001b[1;31mValueError\u001b[0m                                Traceback (most recent call last)",
      "\u001b[1;32m~\\AppData\\Local\\Temp/ipykernel_2144/2816726979.py\u001b[0m in \u001b[0;36m<module>\u001b[1;34m\u001b[0m\n\u001b[0;32m      1\u001b[0m \u001b[0msns\u001b[0m\u001b[1;33m.\u001b[0m\u001b[0mset_theme\u001b[0m\u001b[1;33m(\u001b[0m\u001b[0mstyle\u001b[0m\u001b[1;33m=\u001b[0m\u001b[1;34m\"darkgrid\"\u001b[0m\u001b[1;33m)\u001b[0m\u001b[1;33m\u001b[0m\u001b[1;33m\u001b[0m\u001b[0m\n\u001b[1;32m----> 2\u001b[1;33m \u001b[0mdff\u001b[0m \u001b[1;33m=\u001b[0m \u001b[0msns\u001b[0m\u001b[1;33m.\u001b[0m\u001b[0mload_dataset\u001b[0m\u001b[1;33m(\u001b[0m\u001b[1;34m\"drivers\"\u001b[0m\u001b[1;33m)\u001b[0m\u001b[1;33m\u001b[0m\u001b[1;33m\u001b[0m\u001b[0m\n\u001b[0m\u001b[0;32m      3\u001b[0m sns.displot(\n\u001b[0;32m      4\u001b[0m     \u001b[0mdf\u001b[0m\u001b[1;33m,\u001b[0m \u001b[0mx\u001b[0m\u001b[1;33m=\u001b[0m\u001b[1;34m\"flipper_length_mm\"\u001b[0m\u001b[1;33m,\u001b[0m \u001b[0mcol\u001b[0m\u001b[1;33m=\u001b[0m\u001b[1;34m\"position\"\u001b[0m\u001b[1;33m,\u001b[0m \u001b[0mrow\u001b[0m\u001b[1;33m=\u001b[0m\u001b[1;34m\"debut_tour\"\u001b[0m\u001b[1;33m,\u001b[0m\u001b[1;33m\u001b[0m\u001b[1;33m\u001b[0m\u001b[0m\n\u001b[0;32m      5\u001b[0m     \u001b[0mbinwidth\u001b[0m\u001b[1;33m=\u001b[0m\u001b[1;36m3\u001b[0m\u001b[1;33m,\u001b[0m \u001b[0mheight\u001b[0m\u001b[1;33m=\u001b[0m\u001b[1;36m3\u001b[0m\u001b[1;33m,\u001b[0m \u001b[0mfacet_kws\u001b[0m\u001b[1;33m=\u001b[0m\u001b[0mdict\u001b[0m\u001b[1;33m(\u001b[0m\u001b[0mmargin_titles\u001b[0m\u001b[1;33m=\u001b[0m\u001b[1;32mTrue\u001b[0m\u001b[1;33m)\u001b[0m\u001b[1;33m,\u001b[0m\u001b[1;33m\u001b[0m\u001b[1;33m\u001b[0m\u001b[0m\n",
      "\u001b[1;32m~\\OneDrive\\Documents\\New folder\\lib\\site-packages\\seaborn\\utils.py\u001b[0m in \u001b[0;36mload_dataset\u001b[1;34m(name, cache, data_home, **kws)\u001b[0m\n\u001b[0;32m    593\u001b[0m         \u001b[1;32mif\u001b[0m \u001b[1;32mnot\u001b[0m \u001b[0mos\u001b[0m\u001b[1;33m.\u001b[0m\u001b[0mpath\u001b[0m\u001b[1;33m.\u001b[0m\u001b[0mexists\u001b[0m\u001b[1;33m(\u001b[0m\u001b[0mcache_path\u001b[0m\u001b[1;33m)\u001b[0m\u001b[1;33m:\u001b[0m\u001b[1;33m\u001b[0m\u001b[1;33m\u001b[0m\u001b[0m\n\u001b[0;32m    594\u001b[0m             \u001b[1;32mif\u001b[0m \u001b[0mname\u001b[0m \u001b[1;32mnot\u001b[0m \u001b[1;32min\u001b[0m \u001b[0mget_dataset_names\u001b[0m\u001b[1;33m(\u001b[0m\u001b[1;33m)\u001b[0m\u001b[1;33m:\u001b[0m\u001b[1;33m\u001b[0m\u001b[1;33m\u001b[0m\u001b[0m\n\u001b[1;32m--> 595\u001b[1;33m                 \u001b[1;32mraise\u001b[0m \u001b[0mValueError\u001b[0m\u001b[1;33m(\u001b[0m\u001b[1;34mf\"'{name}' is not one of the example datasets.\"\u001b[0m\u001b[1;33m)\u001b[0m\u001b[1;33m\u001b[0m\u001b[1;33m\u001b[0m\u001b[0m\n\u001b[0m\u001b[0;32m    596\u001b[0m             \u001b[0murlretrieve\u001b[0m\u001b[1;33m(\u001b[0m\u001b[0murl\u001b[0m\u001b[1;33m,\u001b[0m \u001b[0mcache_path\u001b[0m\u001b[1;33m)\u001b[0m\u001b[1;33m\u001b[0m\u001b[1;33m\u001b[0m\u001b[0m\n\u001b[0;32m    597\u001b[0m         \u001b[0mfull_path\u001b[0m \u001b[1;33m=\u001b[0m \u001b[0mcache_path\u001b[0m\u001b[1;33m\u001b[0m\u001b[1;33m\u001b[0m\u001b[0m\n",
      "\u001b[1;31mValueError\u001b[0m: 'drivers' is not one of the example datasets."
     ]
    }
   ],
   "source": [
    "sns.set_theme(style=\"darkgrid\")\n",
    "dff = sns.load_dataset(\"drivers\")\n",
    "sns.displot(\n",
    "    df, x=\"flipper_length_mm\", col=\"position\", row=\"debut_tour\",\n",
    "    binwidth=3, height=3, facet_kws=dict(margin_titles=True),\n",
    ")"
   ]
  },
  {
   "cell_type": "code",
   "execution_count": null,
   "id": "9452a582",
   "metadata": {},
   "outputs": [],
   "source": []
  }
 ],
 "metadata": {
  "kernelspec": {
   "display_name": "Python 3 (ipykernel)",
   "language": "python",
   "name": "python3"
  },
  "language_info": {
   "codemirror_mode": {
    "name": "ipython",
    "version": 3
   },
   "file_extension": ".py",
   "mimetype": "text/x-python",
   "name": "python",
   "nbconvert_exporter": "python",
   "pygments_lexer": "ipython3",
   "version": "3.9.7"
  }
 },
 "nbformat": 4,
 "nbformat_minor": 5
}
