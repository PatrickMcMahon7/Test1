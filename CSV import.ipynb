{
 "cells": [
  {
   "cell_type": "code",
   "execution_count": 4,
   "id": "9f150780",
   "metadata": {},
   "outputs": [],
   "source": [
    "import pandas as pd"
   ]
  },
  {
   "cell_type": "code",
   "execution_count": 5,
   "id": "89384fee",
   "metadata": {},
   "outputs": [
    {
     "data": {
      "text/html": [
       "<div>\n",
       "<style scoped>\n",
       "    .dataframe tbody tr th:only-of-type {\n",
       "        vertical-align: middle;\n",
       "    }\n",
       "\n",
       "    .dataframe tbody tr th {\n",
       "        vertical-align: top;\n",
       "    }\n",
       "\n",
       "    .dataframe thead th {\n",
       "        text-align: right;\n",
       "    }\n",
       "</style>\n",
       "<table border=\"1\" class=\"dataframe\">\n",
       "  <thead>\n",
       "    <tr style=\"text-align: right;\">\n",
       "      <th></th>\n",
       "      <th>Name</th>\n",
       "      <th>marketcap</th>\n",
       "      <th>earnings</th>\n",
       "      <th>employeeCount</th>\n",
       "      <th>OperatingMargin</th>\n",
       "      <th>PERatio</th>\n",
       "      <th>Revenue</th>\n",
       "      <th>country</th>\n",
       "    </tr>\n",
       "  </thead>\n",
       "  <tbody>\n",
       "    <tr>\n",
       "      <th>0</th>\n",
       "      <td>11 bit studios</td>\n",
       "      <td>2.600171e+08</td>\n",
       "      <td>8147710</td>\n",
       "      <td>192</td>\n",
       "      <td>4583.070</td>\n",
       "      <td>40.8881</td>\n",
       "      <td>1.777785e+07</td>\n",
       "      <td>Poland</td>\n",
       "    </tr>\n",
       "    <tr>\n",
       "      <th>1</th>\n",
       "      <td>Activision Blizzard</td>\n",
       "      <td>5.835960e+10</td>\n",
       "      <td>2972000000</td>\n",
       "      <td>9500</td>\n",
       "      <td>3582.020</td>\n",
       "      <td>23.4717</td>\n",
       "      <td>8.297000e+09</td>\n",
       "      <td>United States</td>\n",
       "    </tr>\n",
       "    <tr>\n",
       "      <th>2</th>\n",
       "      <td>Appirits</td>\n",
       "      <td>3.008261e+07</td>\n",
       "      <td>1591300</td>\n",
       "      <td>411</td>\n",
       "      <td>372.253</td>\n",
       "      <td>31.0000</td>\n",
       "      <td>4.274776e+07</td>\n",
       "      <td>Japan</td>\n",
       "    </tr>\n",
       "    <tr>\n",
       "      <th>3</th>\n",
       "      <td>Aristocrat</td>\n",
       "      <td>1.551363e+10</td>\n",
       "      <td>778411000</td>\n",
       "      <td>7000</td>\n",
       "      <td>2266.820</td>\n",
       "      <td>14.2970</td>\n",
       "      <td>3.433941e+09</td>\n",
       "      <td>Australia</td>\n",
       "    </tr>\n",
       "    <tr>\n",
       "      <th>4</th>\n",
       "      <td>ATARI</td>\n",
       "      <td>4.923000e+07</td>\n",
       "      <td>-13476800</td>\n",
       "      <td>26</td>\n",
       "      <td>-6296.300</td>\n",
       "      <td>-3.0000</td>\n",
       "      <td>2.140430e+07</td>\n",
       "      <td>France</td>\n",
       "    </tr>\n",
       "  </tbody>\n",
       "</table>\n",
       "</div>"
      ],
      "text/plain": [
       "                  Name     marketcap    earnings  employeeCount  \\\n",
       "0       11 bit studios  2.600171e+08     8147710            192   \n",
       "1  Activision Blizzard  5.835960e+10  2972000000           9500   \n",
       "2             Appirits  3.008261e+07     1591300            411   \n",
       "3           Aristocrat  1.551363e+10   778411000           7000   \n",
       "4                ATARI  4.923000e+07   -13476800             26   \n",
       "\n",
       "   OperatingMargin  PERatio       Revenue        country  \n",
       "0         4583.070  40.8881  1.777785e+07         Poland  \n",
       "1         3582.020  23.4717  8.297000e+09  United States  \n",
       "2          372.253  31.0000  4.274776e+07          Japan  \n",
       "3         2266.820  14.2970  3.433941e+09      Australia  \n",
       "4        -6296.300  -3.0000  2.140430e+07         France  "
      ]
     },
     "execution_count": 5,
     "metadata": {},
     "output_type": "execute_result"
    }
   ],
   "source": [
    "df = pd.read_csv(\"C:\\\\Users\\\\patri\\\\OneDrive\\\\Documents\\\\PYthon course\\\\files\\\\GamingCompanies-Main.csv\")\n",
    "df.info\n",
    "df.head()"
   ]
  },
  {
   "cell_type": "code",
   "execution_count": 6,
   "id": "c9788af9",
   "metadata": {},
   "outputs": [
    {
     "name": "stdout",
     "output_type": "stream",
     "text": [
      "                   Name    earnings  employeeCount\n",
      "0        11 bit studios     8147710            192\n",
      "1   Activision Blizzard  2972000000           9500\n",
      "2              Appirits     1591300            411\n",
      "3            Aristocrat   778411000           7000\n",
      "4                 ATARI   -13476800             26\n",
      "..                  ...         ...            ...\n",
      "74       Unity Software  -590918000           4934\n",
      "75       Versus Systems   -11545800              0\n",
      "76               Webzen           0              0\n",
      "77               Wemade           0              0\n",
      "78         WonderPlanet    -1386590              0\n",
      "\n",
      "[79 rows x 3 columns]\n"
     ]
    }
   ],
   "source": [
    "data_partial = pd.DataFrame(df, columns=['Name', 'earnings', 'employeeCount'])\n",
    "print(data_partial)"
   ]
  },
  {
   "cell_type": "code",
   "execution_count": 7,
   "id": "681cacbb",
   "metadata": {},
   "outputs": [
    {
     "name": "stdout",
     "output_type": "stream",
     "text": [
      "                   Name     earnings  employeeCount\n",
      "61         Sea (Garena)  -1576240000          33800\n",
      "74       Unity Software   -590918000           4934\n",
      "58               Roblox   -513802000              0\n",
      "25             GameStop   -368500000          12000\n",
      "63               Skillz   -285794000            277\n",
      "..                  ...          ...            ...\n",
      "1   Activision Blizzard   2972000000           9500\n",
      "48             Nintendo   6022310000           6574\n",
      "64                 Sony  10806300000         109700\n",
      "71              Tencent  39673900000         112771\n",
      "38            Microsoft  84754000000         181000\n",
      "\n",
      "[79 rows x 3 columns]\n"
     ]
    }
   ],
   "source": [
    "sort_data_partial= data_partial.sort_values('earnings', ascending = True)\n",
    "print(sort_data_partial)"
   ]
  },
  {
   "cell_type": "code",
   "execution_count": 8,
   "id": "631b0e24",
   "metadata": {},
   "outputs": [
    {
     "name": "stdout",
     "output_type": "stream",
     "text": [
      "                   Name        country\n",
      "0        11 bit studios         Poland\n",
      "1   Activision Blizzard  United States\n",
      "2              Appirits          Japan\n",
      "3            Aristocrat      Australia\n",
      "4                 ATARI         France\n",
      "..                  ...            ...\n",
      "74       Unity Software  United States\n",
      "75       Versus Systems         Canada\n",
      "76               Webzen    South Korea\n",
      "77               Wemade    South Korea\n",
      "78         WonderPlanet          Japan\n",
      "\n",
      "[79 rows x 2 columns]\n"
     ]
    }
   ],
   "source": [
    "country_dataframe = pd.DataFrame(df, columns=['Name', 'country'])\n",
    "print(country_dataframe)"
   ]
  },
  {
   "cell_type": "code",
   "execution_count": 9,
   "id": "dcf19fa4",
   "metadata": {},
   "outputs": [
    {
     "name": "stdout",
     "output_type": "stream",
     "text": [
      "                  Name        country\n",
      "0       11 bit studios         Poland\n",
      "1  Activision Blizzard  United States\n",
      "2             Appirits          Japan\n",
      "3           Aristocrat      Australia\n",
      "4                ATARI         France\n"
     ]
    }
   ],
   "source": [
    "country_list = country_dataframe.drop_duplicates(subset=[\"country\"])\n",
    "print(country_list.head())"
   ]
  },
  {
   "cell_type": "code",
   "execution_count": 11,
   "id": "d622fee4",
   "metadata": {},
   "outputs": [
    {
     "name": "stdout",
     "output_type": "stream",
     "text": [
      "                     Name    earnings  employeeCount         country\n",
      "0            Sea (Garena) -1576240000          33800       Singapore\n",
      "1          Embracer Group  -175571000           6860          Sweden\n",
      "2                 Nexters  -123256000            661          Cyprus\n",
      "3                   ATARI   -13476800             26          France\n",
      "4          Versus Systems   -11545800              0          Canada\n",
      "5                  Com2uS           0              0     South Korea\n",
      "6                Appirits     1591300            411           Japan\n",
      "7     Nazara Technologies     4193680              0           India\n",
      "8          11 bit studios     8147710            192          Poland\n",
      "9                Blue Hat    12263800            110           China\n",
      "10  Frontier Developments    26883400            745  United Kingdom\n",
      "11           Digital Bros    32903700            330           Italy\n",
      "12    Rovio Entertainment    44455300            479         Finland\n",
      "13       Keywords Studios    58765600           7400         Ireland\n",
      "14               Playtika   547100000           3800          Israel\n",
      "15                 Entain   634828000          13849     Isle of Man\n",
      "16             Aristocrat   778411000           7000       Australia\n",
      "17    Activision Blizzard  2972000000           9500   United States\n"
     ]
    }
   ],
   "source": [
    "# merge of 2 dataframes\n",
    "dfmerge = sort_data_partial.merge(country_list)\n",
    "print(dfmerge)"
   ]
  },
  {
   "cell_type": "code",
   "execution_count": 14,
   "id": "8ee4964b",
   "metadata": {},
   "outputs": [
    {
     "name": "stdout",
     "output_type": "stream",
     "text": [
      "[1.77778470e+07 8.29700000e+09 4.27477610e+07 3.43394125e+09\n",
      " 2.14043040e+07 7.36632418e+09 5.26277270e+07 3.42970528e+08\n",
      " 1.06466297e+09 2.25248046e+08 2.68724790e+07 2.91985856e+08\n",
      " 0.00000000e+00 1.75533700e+09 6.39782888e+09 1.19057640e+09\n",
      " 1.43969494e+08 3.52024000e+08 9.61038050e+07 6.99100000e+09\n",
      " 1.61503652e+09 4.06283360e+07 5.16987703e+09 1.93653454e+08\n",
      " 1.22414049e+08 6.01070000e+09 4.92150860e+07 3.20380802e+08\n",
      " 5.88734186e+08 1.59310021e+08 8.66924595e+08 1.75547275e+09\n",
      " 5.80067950e+08 2.13730942e+08 6.41069954e+08 2.64240407e+09\n",
      " 1.65112732e+09 2.43161457e+08 1.92557000e+11 1.00678737e+09\n",
      " 2.01398641e+08 6.19498790e+07 2.18723911e+09 0.00000000e+00\n",
      " 1.35530789e+10 2.17571230e+09 2.40221769e+09 4.34094000e+08\n",
      " 1.48753130e+10 1.74940986e+08 0.00000000e+00 4.56244540e+07\n",
      " 1.31166461e+09 2.83332000e+08 1.36511891e+09 2.62100000e+09\n",
      " 5.90618150e+07 1.61959000e+09 2.06933900e+09 3.48977951e+08\n",
      " 6.13000000e+08 9.95519000e+09 2.70965044e+09 3.93850000e+08\n",
      " 8.64835218e+10 3.14937230e+09 1.36849360e+07 1.46510000e+07\n",
      " 3.50480000e+09 1.22172428e+08 1.60651221e+08 8.66166934e+10\n",
      " 2.21512580e+07 2.24059041e+09 1.19588000e+09 7.53678000e+05\n",
      " 0.00000000e+00 0.00000000e+00 2.77886910e+07]\n"
     ]
    }
   ],
   "source": [
    "Revenue = df.Revenue\n",
    "Revenues = np.array(Revenue)\n",
    "print(Revenues)"
   ]
  },
  {
   "cell_type": "code",
   "execution_count": 18,
   "id": "b1b3f879",
   "metadata": {},
   "outputs": [
    {
     "data": {
      "text/plain": [
       "<pandas.core.groupby.generic.DataFrameGroupBy object at 0x000001E0881A4400>"
      ]
     },
     "execution_count": 18,
     "metadata": {},
     "output_type": "execute_result"
    }
   ],
   "source": [
    "df.groupby(\"country\")\n"
   ]
  },
  {
   "cell_type": "code",
   "execution_count": 32,
   "id": "a2887120",
   "metadata": {},
   "outputs": [
    {
     "data": {
      "image/png": "[encoded data removed]",
      "text/plain": [
       "<Figure size 432x288 with 1 Axes>"
      ]
     },
     "metadata": {
      "needs_background": "light"
     },
     "output_type": "display_data"
    }
   ],
   "source": [
    "sns.countplot(y=country)\n",
    "plt.show()"
   ]
  },
  {
   "cell_type": "code",
   "execution_count": 46,
   "id": "2738ac99",
   "metadata": {},
   "outputs": [
    {
     "data": {
      "text/plain": [
       "<function matplotlib.pyplot.show(close=None, block=None)>"
      ]
     },
     "execution_count": 46,
     "metadata": {},
     "output_type": "execute_result"
    },
    {
     "data": {
      "image/png": "[encoded data removed]",
      "text/plain": [
       "<Figure size 432x288 with 1 Axes>"
      ]
     },
     "metadata": {
      "needs_background": "light"
     },
     "output_type": "display_data"
    }
   ],
   "source": [
    "x = df.employeeCount\n",
    "y = df.Revenue\n",
    "\n",
    "plt.scatter(x, y, s=sizes, c=colors, vmin=0, vmax=100)\n",
    "plt.show"
   ]
  },
  {
   "cell_type": "code",
   "execution_count": null,
   "id": "2aba644a",
   "metadata": {},
   "outputs": [],
   "source": []
  }
 ],
 "metadata": {
  "kernelspec": {
   "display_name": "Python 3 (ipykernel)",
   "language": "python",
   "name": "python3"
  },
  "language_info": {
   "codemirror_mode": {
    "name": "ipython",
    "version": 3
   },
   "file_extension": ".py",
   "mimetype": "text/x-python",
   "name": "python",
   "nbconvert_exporter": "python",
   "pygments_lexer": "ipython3",
   "version": "3.9.7"
  }
 },
 "nbformat": 4,
 "nbformat_minor": 5
}
