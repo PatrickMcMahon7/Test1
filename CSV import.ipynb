{
 "cells": [
  {
   "cell_type": "code",
   "execution_count": 98,
   "id": "9f150780",
   "metadata": {},
   "outputs": [],
   "source": [
    "import pandas as pd"
   ]
  },
  {
   "cell_type": "code",
   "execution_count": 73,
   "id": "89384fee",
   "metadata": {},
   "outputs": [
    {
     "data": {
      "text/html": [
       "<div>\n",
       "<style scoped>\n",
       "    .dataframe tbody tr th:only-of-type {\n",
       "        vertical-align: middle;\n",
       "    }\n",
       "\n",
       "    .dataframe tbody tr th {\n",
       "        vertical-align: top;\n",
       "    }\n",
       "\n",
       "    .dataframe thead th {\n",
       "        text-align: right;\n",
       "    }\n",
       "</style>\n",
       "<table border=\"1\" class=\"dataframe\">\n",
       "  <thead>\n",
       "    <tr style=\"text-align: right;\">\n",
       "      <th></th>\n",
       "      <th>Name</th>\n",
       "      <th>marketcap</th>\n",
       "      <th>earnings</th>\n",
       "      <th>employeeCount</th>\n",
       "      <th>OperatingMargin</th>\n",
       "      <th>PERatio</th>\n",
       "      <th>Revenue</th>\n",
       "      <th>country</th>\n",
       "    </tr>\n",
       "  </thead>\n",
       "  <tbody>\n",
       "    <tr>\n",
       "      <th>0</th>\n",
       "      <td>11 bit studios</td>\n",
       "      <td>2.600171e+08</td>\n",
       "      <td>8147710</td>\n",
       "      <td>192</td>\n",
       "      <td>4583.070</td>\n",
       "      <td>40.8881</td>\n",
       "      <td>1.777785e+07</td>\n",
       "      <td>Poland</td>\n",
       "    </tr>\n",
       "    <tr>\n",
       "      <th>1</th>\n",
       "      <td>Activision Blizzard</td>\n",
       "      <td>5.835960e+10</td>\n",
       "      <td>2972000000</td>\n",
       "      <td>9500</td>\n",
       "      <td>3582.020</td>\n",
       "      <td>23.4717</td>\n",
       "      <td>8.297000e+09</td>\n",
       "      <td>United States</td>\n",
       "    </tr>\n",
       "    <tr>\n",
       "      <th>2</th>\n",
       "      <td>Appirits</td>\n",
       "      <td>3.008261e+07</td>\n",
       "      <td>1591300</td>\n",
       "      <td>411</td>\n",
       "      <td>372.253</td>\n",
       "      <td>31.0000</td>\n",
       "      <td>4.274776e+07</td>\n",
       "      <td>Japan</td>\n",
       "    </tr>\n",
       "    <tr>\n",
       "      <th>3</th>\n",
       "      <td>Aristocrat</td>\n",
       "      <td>1.551363e+10</td>\n",
       "      <td>778411000</td>\n",
       "      <td>7000</td>\n",
       "      <td>2266.820</td>\n",
       "      <td>14.2970</td>\n",
       "      <td>3.433941e+09</td>\n",
       "      <td>Australia</td>\n",
       "    </tr>\n",
       "    <tr>\n",
       "      <th>4</th>\n",
       "      <td>ATARI</td>\n",
       "      <td>4.923000e+07</td>\n",
       "      <td>-13476800</td>\n",
       "      <td>26</td>\n",
       "      <td>-6296.300</td>\n",
       "      <td>-3.0000</td>\n",
       "      <td>2.140430e+07</td>\n",
       "      <td>France</td>\n",
       "    </tr>\n",
       "  </tbody>\n",
       "</table>\n",
       "</div>"
      ],
      "text/plain": [
       "                  Name     marketcap    earnings  employeeCount  \\\n",
       "0       11 bit studios  2.600171e+08     8147710            192   \n",
       "1  Activision Blizzard  5.835960e+10  2972000000           9500   \n",
       "2             Appirits  3.008261e+07     1591300            411   \n",
       "3           Aristocrat  1.551363e+10   778411000           7000   \n",
       "4                ATARI  4.923000e+07   -13476800             26   \n",
       "\n",
       "   OperatingMargin  PERatio       Revenue        country  \n",
       "0         4583.070  40.8881  1.777785e+07         Poland  \n",
       "1         3582.020  23.4717  8.297000e+09  United States  \n",
       "2          372.253  31.0000  4.274776e+07          Japan  \n",
       "3         2266.820  14.2970  3.433941e+09      Australia  \n",
       "4        -6296.300  -3.0000  2.140430e+07         France  "
      ]
     },
     "execution_count": 73,
     "metadata": {},
     "output_type": "execute_result"
    }
   ],
   "source": [
    "df = pd.read_csv(\"C:\\\\Users\\\\patri\\\\OneDrive\\\\Documents\\\\PYthon course\\\\files\\\\GamingCompanies-Main.csv\")\n",
    "df.info\n",
    "df.head()"
   ]
  },
  {
   "cell_type": "code",
   "execution_count": 83,
   "id": "9fda247f",
   "metadata": {},
   "outputs": [],
   "source": []
  },
  {
   "cell_type": "code",
   "execution_count": 96,
   "id": "c9788af9",
   "metadata": {},
   "outputs": [
    {
     "name": "stdout",
     "output_type": "stream",
     "text": [
      "                   Name    earnings  employeeCount\n",
      "0        11 bit studios     8147710            192\n",
      "1   Activision Blizzard  2972000000           9500\n",
      "2              Appirits     1591300            411\n",
      "3            Aristocrat   778411000           7000\n",
      "4                 ATARI   -13476800             26\n",
      "..                  ...         ...            ...\n",
      "74       Unity Software  -590918000           4934\n",
      "75       Versus Systems   -11545800              0\n",
      "76               Webzen           0              0\n",
      "77               Wemade           0              0\n",
      "78         WonderPlanet    -1386590              0\n",
      "\n",
      "[79 rows x 3 columns]\n"
     ]
    }
   ],
   "source": [
    "data_partial = pd.DataFrame(df, columns=['Name', 'earnings', 'employeeCount'])\n",
    "print(data_partial)"
   ]
  },
  {
   "cell_type": "code",
   "execution_count": 107,
   "id": "681cacbb",
   "metadata": {},
   "outputs": [
    {
     "name": "stdout",
     "output_type": "stream",
     "text": [
      "                   Name     earnings  employeeCount\n",
      "61         Sea (Garena)  -1576240000          33800\n",
      "74       Unity Software   -590918000           4934\n",
      "58               Roblox   -513802000              0\n",
      "25             GameStop   -368500000          12000\n",
      "63               Skillz   -285794000            277\n",
      "..                  ...          ...            ...\n",
      "1   Activision Blizzard   2972000000           9500\n",
      "48             Nintendo   6022310000           6574\n",
      "64                 Sony  10806300000         109700\n",
      "71              Tencent  39673900000         112771\n",
      "38            Microsoft  84754000000         181000\n",
      "\n",
      "[79 rows x 3 columns]\n"
     ]
    }
   ],
   "source": [
    "sort = data_partial.sort_values('earnings', ascending = True)\n",
    "print(sort)"
   ]
  },
  {
   "cell_type": "code",
   "execution_count": 112,
   "id": "d315a0b6",
   "metadata": {},
   "outputs": [
    {
     "name": "stdout",
     "output_type": "stream",
     "text": [
      "                   Name  MarketCap\n",
      "0        11 bit studios        NaN\n",
      "1   Activision Blizzard        NaN\n",
      "2              Appirits        NaN\n",
      "3            Aristocrat        NaN\n",
      "4                 ATARI        NaN\n",
      "..                  ...        ...\n",
      "74       Unity Software        NaN\n",
      "75       Versus Systems        NaN\n",
      "76               Webzen        NaN\n",
      "77               Wemade        NaN\n",
      "78         WonderPlanet        NaN\n",
      "\n",
      "[79 rows x 2 columns]\n"
     ]
    }
   ],
   "source": []
  },
  {
   "cell_type": "code",
   "execution_count": 125,
   "id": "631b0e24",
   "metadata": {},
   "outputs": [
    {
     "name": "stdout",
     "output_type": "stream",
     "text": [
      "                   Name        country\n",
      "0        11 bit studios         Poland\n",
      "1   Activision Blizzard  United States\n",
      "2              Appirits          Japan\n",
      "3            Aristocrat      Australia\n",
      "4                 ATARI         France\n",
      "..                  ...            ...\n",
      "74       Unity Software  United States\n",
      "75       Versus Systems         Canada\n",
      "76               Webzen    South Korea\n",
      "77               Wemade    South Korea\n",
      "78         WonderPlanet          Japan\n",
      "\n",
      "[79 rows x 2 columns]\n"
     ]
    }
   ],
   "source": [
    "country_dataframe = pd.DataFrame(df, columns=['Name', 'country'])\n",
    "print(country_dataframe)"
   ]
  },
  {
   "cell_type": "code",
   "execution_count": 143,
   "id": "dcf19fa4",
   "metadata": {},
   "outputs": [
    {
     "name": "stdout",
     "output_type": "stream",
     "text": [
      "                  Name        country\n",
      "0       11 bit studios         Poland\n",
      "1  Activision Blizzard  United States\n",
      "2             Appirits          Japan\n",
      "3           Aristocrat      Australia\n",
      "4                ATARI         France\n"
     ]
    }
   ],
   "source": [
    "country_list = country_dataframe.drop_duplicates(subset=[\"country\"])\n",
    "print(country_list.head())"
   ]
  },
  {
   "cell_type": "code",
   "execution_count": 144,
   "id": "ffb66e00",
   "metadata": {},
   "outputs": [
    {
     "ename": "TypeError",
     "evalue": "'DataFrame' object is not callable",
     "output_type": "error",
     "traceback": [
      "\u001b[1;31m---------------------------------------------------------------------------\u001b[0m",
      "\u001b[1;31mTypeError\u001b[0m                                 Traceback (most recent call last)",
      "\u001b[1;32m~\\AppData\\Local\\Temp/ipykernel_3036/2949718209.py\u001b[0m in \u001b[0;36m<module>\u001b[1;34m\u001b[0m\n\u001b[0;32m      1\u001b[0m \u001b[1;32mimport\u001b[0m \u001b[0mmatplotlib\u001b[0m\u001b[1;33m.\u001b[0m\u001b[0mpyplot\u001b[0m \u001b[1;32mas\u001b[0m \u001b[0mplt\u001b[0m\u001b[1;33m\u001b[0m\u001b[1;33m\u001b[0m\u001b[0m\n\u001b[1;32m----> 2\u001b[1;33m \u001b[0mcountry_single\u001b[0m\u001b[1;33m(\u001b[0m\u001b[0mkind\u001b[0m\u001b[1;33m=\u001b[0m\u001b[1;34m\"bar\"\u001b[0m\u001b[1;33m)\u001b[0m\u001b[1;33m\u001b[0m\u001b[1;33m\u001b[0m\u001b[0m\n\u001b[0m\u001b[0;32m      3\u001b[0m \u001b[0mplt\u001b[0m\u001b[1;33m.\u001b[0m\u001b[0mshow\u001b[0m\u001b[1;33m(\u001b[0m\u001b[1;33m)\u001b[0m\u001b[1;33m\u001b[0m\u001b[1;33m\u001b[0m\u001b[0m\n",
      "\u001b[1;31mTypeError\u001b[0m: 'DataFrame' object is not callable"
     ]
    }
   ],
   "source": [
    "import matplotlib.pyplot as plt\n",
    "country_single(kind=\"bar\")\n",
    "plt.show()"
   ]
  },
  {
   "cell_type": "code",
   "execution_count": null,
   "id": "25dc0c6f",
   "metadata": {},
   "outputs": [],
   "source": []
  }
 ],
 "metadata": {
  "kernelspec": {
   "display_name": "Python 3 (ipykernel)",
   "language": "python",
   "name": "python3"
  },
  "language_info": {
   "codemirror_mode": {
    "name": "ipython",
    "version": 3
   },
   "file_extension": ".py",
   "mimetype": "text/x-python",
   "name": "python",
   "nbconvert_exporter": "python",
   "pygments_lexer": "ipython3",
   "version": "3.9.7"
  }
 },
 "nbformat": 4,
 "nbformat_minor": 5
}
